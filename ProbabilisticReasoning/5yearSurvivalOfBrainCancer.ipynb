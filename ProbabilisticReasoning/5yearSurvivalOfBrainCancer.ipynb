{
 "cells": [
  {
   "cell_type": "markdown",
   "metadata": {},
   "source": [
    "## 5 year relative survival of brain cancer"
   ]
  },
  {
   "cell_type": "markdown",
   "metadata": {},
   "source": [
    "#### Pentek Tamas"
   ]
  },
  {
   "cell_type": "markdown",
   "metadata": {},
   "source": [
    "#### Podaru Bogdan"
   ]
  },
  {
   "cell_type": "markdown",
   "metadata": {},
   "source": [
    "### Introduction"
   ]
  },
  {
   "cell_type": "markdown",
   "metadata": {},
   "source": [
    "The problem adressed by this article refers to the 5 year relative survival of patients diagnosed with brain tumors.\n",
    "A brain tumor occurs when abnormal cells form within the brain. There are two main types of tumors: cancerous (malignant) and benign (non-cancerous). The most common primary brain tumors are: Gliomas (50.4%), Meningiomas (20.8%) [[1](#ref)]. There are six main categories in the summary staging system : unstaged/unknown(cases for which sufficient evidence is not available ), localized(malignancy limited to organ of origin), regional(tumor extension beyond the limits of the organ of origin), distant(tumor cells have broken away from the primary tumor, traveled to other part of the body, and started to grow at the new location), all(patient presents all the stages described).\n",
    "The survival statistics used in this study were obtained from SEER 18, which includes malignant data from 18 central cancer registries that represent approximately 28% of the US population. [[2](#ref)]\n",
    "    \n",
    "   [[3](#ref)] Number of new cases per 100.000 persons by Race/Ethnicity & Sex: \n",
    "\n",
    "|  | Male | Female |\n",
    "| --- | --- | --- |\n",
    "| White | 8.3 | 6 |\n",
    "| Black | 4.7 | 3.3 |\n",
    "\n",
    "US population in 2009: 306.8 millions<br>\n",
    "US population in 2015: 321 millions<br>\n",
    "Average US population between these two years: 313.9 millions<br>\n",
    "Based on [[3](#ref)] we have computed the number of white men implied in this study: At every 8.3 persons/100.000 a new case of a white male having brain cancer appears. So there are 313.9 millions/100.000*8.3 = 26053.7 white males. Similar the categories of female, black and white are obtained by the same logic. Last step is to normalize these values. Final values: \n",
    "\n",
    "  | Male | Female |\n",
    "| --- | --- |\n",
    "| 0.684211 | 0.315789 |\n",
    "\n",
    "  | Black | White |\n",
    "| --- | --- |\n",
    "| 0.358744 | 0.641256 |\n",
    "\n",
    "Values for age and stage were normalized after getting them from [[4](#ref)]. \n",
    "Some values for cancer recurrence based on stage of diagnosis we found on [[6](#ref)] : 'localized': 17% and 'distant': 22%. The values for the other stages('all', 'unstaged', 'regional') we didn't find so we used some fictive numbers based on real numbers. These numbers were also normalized.\n",
    "Values for treatment based on stage we didn't find so the chosen values are proportional with medical decisions ( in early stages patients mostly face radiotherapy treatment and severe cases are treated with surgery). For stage 'all' the value of surgery is the highest as it is the most appropriate method for such cases. The chosen values can be found in the probability table.\n",
    "Values for risk of brain cancer we found on: [[7](#ref)] for family history, [[5](#ref)] for mobile usage and processed meat and [[8](#ref)] for smoking. Because risk depends on gender we considered half of them represents men. The values after normalization can be found in the probability table."
   ]
  },
  {
   "cell_type": "markdown",
   "metadata": {},
   "source": [
    "First, we import the modules we need:"
   ]
  },
  {
   "cell_type": "code",
   "execution_count": 16,
   "metadata": {},
   "outputs": [
    {
     "name": "stdout",
     "output_type": "stream",
     "text": [
      "The watermark extension is already loaded. To reload it, use:\n",
      "  %reload_ext watermark\n",
      "Tue Apr 07 2020 \n",
      "\n",
      "numpy 1.18.2\n",
      "scipy 1.4.1\n",
      "pomegranate 0.11.1\n",
      "\n",
      "compiler   : GCC 7.3.0\n",
      "system     : Linux\n",
      "release    : 5.3.0-28-generic\n",
      "machine    : x86_64\n",
      "processor  : x86_64\n",
      "CPU cores  : 1\n",
      "interpreter: 64bit\n"
     ]
    }
   ],
   "source": [
    "%matplotlib inline\n",
    "import matplotlib.pyplot as plt\n",
    "import seaborn; seaborn.set_style('whitegrid')\n",
    "import numpy\n",
    "\n",
    "from pomegranate import *\n",
    "\n",
    "numpy.random.seed(0)\n",
    "numpy.set_printoptions(suppress=True)\n",
    "\n",
    "%load_ext watermark\n",
    "%watermark -m -n -p numpy,scipy,pomegranate"
   ]
  },
  {
   "cell_type": "markdown",
   "metadata": {},
   "source": [
    "### Network architecture\n",
    "\n",
    "Now, we start building the network:"
   ]
  },
  {
   "cell_type": "code",
   "execution_count": 17,
   "metadata": {},
   "outputs": [],
   "source": [
    "# Unconditional distribution\n",
    "Gender = DiscreteDistribution({ \"Male\":0.684, \"Female\": 0.316 })\n",
    "Skin_color = DiscreteDistribution({ \"Black\":0.3587, \"White\": 0.6413 })"
   ]
  },
  {
   "cell_type": "code",
   "execution_count": 18,
   "metadata": {},
   "outputs": [],
   "source": [
    "# Conditional distribution for the network \n",
    "\n",
    "Risk_of_brain_cancer = ConditionalProbabilityTable([[\"Male\",\"Family history\", 0.1019],\n",
    "                                                   [\"Female\",\"Family history\", 0.0877],\n",
    "                                                   [\"Male\",\"Processed meat\", 0.6527],\n",
    "                                                   [\"Female\",\"Processed meat\", 0.5614],\n",
    "                                                   [\"Male\",\"Smoking\", 0.2446],\n",
    "                                                   [\"Female\",\"Smoking\", 0.3508],\n",
    "                                                   [\"Male\",\"Mobile Usage\", 0.0008],\n",
    "                                                   [\"Female\",\"Mobile Usage\", 0.0001]], [Gender])\n",
    "\n",
    "Age = ConditionalProbabilityTable([[\"Male\",\"Black\",\"<45\", 0.508],\n",
    "                                   [\"Male\",\"Black\",\"45-54\", 0.2104],\n",
    "                                   [\"Male\",\"Black\",\"55-64\", 0.1024],\n",
    "                                   [\"Male\",\"Black\",\"65-74\", 0.0872],\n",
    "                                   [\"Male\",\"Black\",\"75+\", 0.092],\n",
    "\n",
    "                                   [\"Male\",\"White\",\"<45\", 0.5553],\n",
    "                                   [\"Male\",\"White\",\"45-54\", 0.2387],\n",
    "                                   [\"Male\",\"White\",\"55-64\", 0.1132],\n",
    "                                   [\"Male\",\"White\",\"65-74\", 0.059],\n",
    "                                   [\"Male\",\"White\",\"75+\", 0.0338],\n",
    "\n",
    "                                   [\"Female\",\"Black\",\"<45\", 0.4835],\n",
    "                                   [\"Female\",\"Black\",\"45-54\", 0.2319],\n",
    "                                   [\"Female\",\"Black\",\"55-64\", 0.1667],\n",
    "                                   [\"Female\",\"Black\",\"65-74\", 0.0515],\n",
    "                                   [\"Female\",\"Black\",\"75+\", 0.0664],\n",
    "\n",
    "                                   [\"Female\",\"White\",\"<45\", 0.513],\n",
    "                                   [\"Female\",\"White\",\"45-54\", 0.2607],\n",
    "                                   [\"Female\",\"White\",\"55-64\", 0.1215],\n",
    "                                   [\"Female\",\"White\",\"65-74\", 0.0777],\n",
    "                                   [\"Female\",\"White\",\"75+\", 0.0271]], [Gender,Skin_color])\n",
    "                                                   \n",
    "Stage = ConditionalProbabilityTable([[\"Male\",\"Black\",\"All\", 0.2106],\n",
    "                                   [\"Male\",\"Black\",\"Localized\", 0.2254],\n",
    "                                   [\"Male\",\"Black\",\"Regional\", 0.1164],\n",
    "                                   [\"Male\",\"Black\",\"Distant\", 0.226],\n",
    "                                   [\"Male\",\"Black\",\"Unstaged\", 0.2216],\n",
    "\n",
    "                                   [\"Male\",\"White\",\"All\", 0.2258],\n",
    "                                   [\"Male\",\"White\",\"Localized\", 0.2451],\n",
    "                                   [\"Male\",\"White\",\"Regional\", 0.1389],\n",
    "                                   [\"Male\",\"White\",\"Distant\", 0.2072],\n",
    "                                   [\"Male\",\"White\",\"Unstaged\", 0.183],\n",
    "\n",
    "                                   [\"Female\",\"Black\",\"All\", 0.1979],\n",
    "                                   [\"Female\",\"Black\",\"Localized\", 0.2043],\n",
    "                                   [\"Female\",\"Black\",\"Regional\", 0.1533],\n",
    "                                   [\"Female\",\"Black\",\"Distant\", 0.2229],\n",
    "                                   [\"Female\",\"Black\",\"Unstaged\", 0.2216],\n",
    "\n",
    "                                   [\"Female\",\"White\",\"All\", 0.2207],\n",
    "                                   [\"Female\",\"White\",\"Localized\", 0.2412],\n",
    "                                   [\"Female\",\"White\",\"Regional\", 0.1308],\n",
    "                                   [\"Female\",\"White\",\"Distant\", 0.2333],\n",
    "                                   [\"Female\",\"White\",\"Unstaged\", 0.174]], [Gender,Skin_color])  \n",
    "                                                   \n",
    "Treatment = ConditionalProbabilityTable([[\"All\",\"Surgery\", 0.85],\n",
    "                                       [\"All\",\"Radiotherapy\", 0.15],\n",
    "                                       [\"Localized\",\"Surgery\", 0.1],\n",
    "                                       [\"Localized\",\"Radiotherapy\", 0.9],\n",
    "                                       [\"Regional\",\"Surgery\", 0.25],\n",
    "                                       [\"Regional\",\"Radiotherapy\", 0.75],\n",
    "                                       [\"Distant\",\"Surgery\", 0.4],\n",
    "                                       [\"Distant\",\"Radiotherapy\", 0.6],\n",
    "                                       [\"Unstaged\",\"Surgery\", 0.2],\n",
    "                                       [\"Unstaged\",\"Radiotherapy\", 0.8]], [Stage])\n",
    "\n",
    "Recurrence = ConditionalProbabilityTable([[\"All\",'T', 0.5586],\n",
    "                                       [\"All\",'F', 0.4414],\n",
    "                                       [\"Localized\",'T', 0.0949],\n",
    "                                       [\"Localized\",'F', 0.9051],\n",
    "                                       [\"Regional\",'T', 0.1061],\n",
    "                                       [\"Regional\",'F', 0.8939],\n",
    "                                       [\"Distant\",'T', 0.1229],\n",
    "                                       [\"Distant\",'F', 0.8771],\n",
    "                                       [\"Unstaged\",'T', 0.1173],\n",
    "                                       [\"Unstaged\",'F', 0.8827]], [Stage])  \n"
   ]
  },
  {
   "cell_type": "markdown",
   "metadata": {},
   "source": [
    "The network has 7 nodes corresponding to 7 states each of which with the following domains:\n",
    "1. Gender : {Male, Female}\n",
    "2. Skin color : {Black, White}\n",
    "3. Risk of brain cancer : {Family history, Processed meat, Smoking, Mobile usage}\n",
    "4. By Age : {<45, 45-54, 55-64, 65-74, 75+} - age categories\n",
    "5. By Stage : {All, Localized, Regional, Distant, Unstaged}\n",
    "6. Treatment : {Surgery, Radiotherapy}\n",
    "7. Recurrence : {T, F} - the cancer is reccurent or not"
   ]
  },
  {
   "cell_type": "code",
   "execution_count": 19,
   "metadata": {},
   "outputs": [],
   "source": [
    "# Create network states\n",
    "gen = State(Gender, name=\"Gender\")\n",
    "skin = State(Skin_color, name=\"Skin color\")\n",
    "risk = State(Risk_of_brain_cancer, name=\"Risk of brain cancer\")\n",
    "age = State(Age, name=\"By Age\")\n",
    "stage = State(Stage, name=\"By Stage\")\n",
    "treatment = State(Treatment, name=\"Treatment\")\n",
    "recurrence = State(Recurrence, name=\"Recurrence\")\n"
   ]
  },
  {
   "cell_type": "code",
   "execution_count": 20,
   "metadata": {},
   "outputs": [
    {
     "data": {
      "image/png": "[encoded data removed]",
      "text/plain": [
       "<Figure size 432x288 with 1 Axes>"
      ]
     },
     "metadata": {},
     "output_type": "display_data"
    }
   ],
   "source": [
    "# Create the Bayesian network object\n",
    "\n",
    "model = BayesianNetwork(\"5 year survival\")\n",
    "\n",
    "# Add the states to the network \n",
    "model.add_states(gen,skin,risk,age,stage,treatment,recurrence)\n",
    "\n",
    "# Connect the states\n",
    "model.add_edge(gen, risk)\n",
    "model.add_edge(gen, age)\n",
    "model.add_edge(gen, stage)\n",
    "model.add_edge(skin, age)\n",
    "model.add_edge(skin, stage)\n",
    "model.add_edge(stage, treatment)\n",
    "model.add_edge(stage, recurrence)\n",
    "\n",
    "# Integrate everything\n",
    "model.bake()\n",
    "\n",
    "#Draw the network\n",
    "model.plot()"
   ]
  },
  {
   "cell_type": "markdown",
   "metadata": {},
   "source": [
    "### Arc presence/absence analysis\n",
    "- Why there is no link between 'Recurrence' node and 'By Age' node (or 'Geneder' or 'Skin color')?\n",
    "<br>\n",
    "If a person was diagnosed in some stage the only important information for deciding if the tumor will return becomes the type of stage. For a cancer to return there should be actual cancer diagnosis whether the pacient is a man or a woman and of any age. For example there is no point for a cancer to return if a male patient aged 35 was not diagnosed as having cancer.\n",
    "By the same logic the only relevant information for deciding the treatment is the stage of diagnosis.\n",
    "- But why there is a link between 'Gender' and 'Risk of brain cancer' ?\n",
    "<br> \n",
    "The domain of 'Risk of brain cancer' node is represented by the values : smoking, family history, mobile usage and processed meat. Articles highlight the fact that consumption of processed meat and cigarettes are higher at man ([[5](#ref)] and [[8](#ref)]). So there is a direct influence of gender in the risk rates.\n",
    "- Why there is no link between the nodes 'By Stage' and 'By Age'?\n",
    "<br> \n",
    "The bayesian network described above gives 2 different general answers about 5 year relative survival in relation with gender and skin color: one analysis by stage of diagnosis and another distinct one by age of the patients as described in [[4](#ref)] . Only these 2 nodes are referring to 5 year relative survival and the other nodes answer questions about cancer recurrence, type of treatment, risk rates of different factors, et al.\n",
    "    "
   ]
  },
  {
   "cell_type": "markdown",
   "metadata": {},
   "source": [
    "The above graph has the following marginal probabilities for each variable in the graph:"
   ]
  },
  {
   "cell_type": "code",
   "execution_count": 21,
   "metadata": {},
   "outputs": [
    {
     "data": {
      "text/plain": [
       "array([{\n",
       "    \"class\" :\"Distribution\",\n",
       "    \"dtype\" :\"str\",\n",
       "    \"name\" :\"DiscreteDistribution\",\n",
       "    \"parameters\" :[\n",
       "        {\n",
       "            \"Male\" :0.6839999999999998,\n",
       "            \"Female\" :0.31600000000000034\n",
       "        }\n",
       "    ],\n",
       "    \"frozen\" :false\n",
       "},\n",
       "       {\n",
       "    \"class\" :\"Distribution\",\n",
       "    \"dtype\" :\"str\",\n",
       "    \"name\" :\"DiscreteDistribution\",\n",
       "    \"parameters\" :[\n",
       "        {\n",
       "            \"Black\" :0.35870000000000013,\n",
       "            \"White\" :0.6412999999999999\n",
       "        }\n",
       "    ],\n",
       "    \"frozen\" :false\n",
       "},\n",
       "       {\n",
       "    \"class\" :\"Distribution\",\n",
       "    \"dtype\" :\"str\",\n",
       "    \"name\" :\"DiscreteDistribution\",\n",
       "    \"parameters\" :[\n",
       "        {\n",
       "            \"Processed meat\" :0.6238491999999997,\n",
       "            \"Family history\" :0.09741280000000015,\n",
       "            \"Smoking\" :0.27815919999999994,\n",
       "            \"Mobile Usage\" :0.0005788000000002214\n",
       "        }\n",
       "    ],\n",
       "    \"frozen\" :false\n",
       "},\n",
       "       {\n",
       "    \"class\" :\"Distribution\",\n",
       "    \"dtype\" :\"str\",\n",
       "    \"name\" :\"DiscreteDistribution\",\n",
       "    \"parameters\" :[\n",
       "        {\n",
       "            \"45-54\" :0.23544411539999993,\n",
       "            \"75+\" :0.05041684012000015,\n",
       "            \"65-74\" :0.06885834352000014,\n",
       "            \"55-64\" :0.11829639520000007,\n",
       "            \"<45\" :0.5269843057599998\n",
       "        }\n",
       "    ],\n",
       "    \"frozen\" :false\n",
       "},\n",
       "       {\n",
       "    \"class\" :\"Distribution\",\n",
       "    \"dtype\" :\"str\",\n",
       "    \"name\" :\"DiscreteDistribution\",\n",
       "    \"parameters\" :[\n",
       "        {\n",
       "            \"Unstaged\" :0.19502196279999992,\n",
       "            \"All\" :0.21787470608000004,\n",
       "            \"Localized\" :0.2348516037599999,\n",
       "            \"Regional\" :0.13337036400000024,\n",
       "            \"Distant\" :0.2188813633599999\n",
       "        }\n",
       "    ],\n",
       "    \"frozen\" :false\n",
       "},\n",
       "       {\n",
       "    \"class\" :\"Distribution\",\n",
       "    \"dtype\" :\"str\",\n",
       "    \"name\" :\"DiscreteDistribution\",\n",
       "    \"parameters\" :[\n",
       "        {\n",
       "            \"Radiotherapy\" :0.6314218105519999,\n",
       "            \"Surgery\" :0.36857818944800014\n",
       "        }\n",
       "    ],\n",
       "    \"frozen\" :false\n",
       "},\n",
       "       {\n",
       "    \"class\" :\"Distribution\",\n",
       "    \"dtype\" :\"str\",\n",
       "    \"name\" :\"DiscreteDistribution\",\n",
       "    \"parameters\" :[\n",
       "        {\n",
       "            \"F\" :0.792080580573104,\n",
       "            \"T\" :0.2079194194268961\n",
       "        }\n",
       "    ],\n",
       "    \"frozen\" :false\n",
       "}], dtype=object)"
      ]
     },
     "execution_count": 21,
     "metadata": {},
     "output_type": "execute_result"
    }
   ],
   "source": [
    "model.marginal()"
   ]
  },
  {
   "cell_type": "markdown",
   "metadata": {},
   "source": [
    "### Interrogate the net:"
   ]
  },
  {
   "cell_type": "markdown",
   "metadata": {},
   "source": [
    "The probability of brain cancer recurrence of a white colored man diagnosed in localized stage."
   ]
  },
  {
   "cell_type": "code",
   "execution_count": 22,
   "metadata": {},
   "outputs": [
    {
     "data": {
      "text/plain": [
       "0.010202976005508"
      ]
     },
     "execution_count": 22,
     "metadata": {},
     "output_type": "execute_result"
    }
   ],
   "source": [
    "model.probability([\"Male\",\"White\",None,None,\"Localized\",None,'T'])"
   ]
  },
  {
   "cell_type": "markdown",
   "metadata": {},
   "source": [
    "The probability of brain cancer recurrence of a white colored man who was cured after all stages."
   ]
  },
  {
   "cell_type": "code",
   "execution_count": 23,
   "metadata": {},
   "outputs": [
    {
     "data": {
      "text/plain": [
       "0.05532764825649601"
      ]
     },
     "execution_count": 23,
     "metadata": {},
     "output_type": "execute_result"
    }
   ],
   "source": [
    "model.probability([\"Male\",\"White\",None,None,\"All\",None,'T'])"
   ]
  },
  {
   "cell_type": "markdown",
   "metadata": {},
   "source": [
    "The probability to relative 5 year survival of people under 45."
   ]
  },
  {
   "cell_type": "code",
   "execution_count": 24,
   "metadata": {},
   "outputs": [
    {
     "data": {
      "text/plain": [
       "0.52698430576"
      ]
     },
     "execution_count": 24,
     "metadata": {},
     "output_type": "execute_result"
    }
   ],
   "source": [
    "model.probability([\"Male\",\"White\",None,\"<45\",None,None,None]) + model.probability([\"Male\",\"Black\",None,\"<45\",None,None,None])+model.probability([\"Female\",\"White\",None,\"<45\",None,None,None])+model.probability([\"Female\",\"Black\",None,\"<45\",None,None,None])"
   ]
  },
  {
   "cell_type": "markdown",
   "metadata": {},
   "source": [
    "The probability of a 58 years black woman to be cured from brain cancer after going through all stages using surgery."
   ]
  },
  {
   "cell_type": "code",
   "execution_count": 25,
   "metadata": {},
   "outputs": [
    {
     "data": {
      "text/plain": [
       "0.0031784748475225983"
      ]
     },
     "execution_count": 25,
     "metadata": {},
     "output_type": "execute_result"
    }
   ],
   "source": [
    "model.probability([\"Female\",\"Black\",None,\"55-64\",\"All\",\"Surgery\",None])"
   ]
  },
  {
   "cell_type": "markdown",
   "metadata": {},
   "source": [
    "The probability of a 58 years black woman to be cured from brain cancer after going through all stages using radiotherapy."
   ]
  },
  {
   "cell_type": "code",
   "execution_count": 26,
   "metadata": {},
   "outputs": [
    {
     "data": {
      "text/plain": [
       "0.0005609073260333999"
      ]
     },
     "execution_count": 26,
     "metadata": {},
     "output_type": "execute_result"
    }
   ],
   "source": [
    "model.probability([\"Female\",\"Black\",None,\"55-64\",\"All\",\"Radiotherapy\",None])"
   ]
  },
  {
   "cell_type": "markdown",
   "metadata": {},
   "source": [
    "As seen above the latter probability is lower because if someone has an all stage brain cancer there are lower chances for her to be cured using radiotherapy (the preferred method is surgery). "
   ]
  },
  {
   "cell_type": "code",
   "execution_count": 27,
   "metadata": {},
   "outputs": [
    {
     "data": {
      "text/plain": [
       "0.2781592"
      ]
     },
     "execution_count": 27,
     "metadata": {},
     "output_type": "execute_result"
    }
   ],
   "source": [
    "model.probability([\"Male\",None,\"Smoking\",None,None,None,None]) + model.probability([\"Female\",None,\"Smoking\",None,None,None,None])"
   ]
  },
  {
   "cell_type": "code",
   "execution_count": 28,
   "metadata": {},
   "outputs": [
    {
     "data": {
      "text/plain": [
       "0.0005788000000000002"
      ]
     },
     "execution_count": 28,
     "metadata": {},
     "output_type": "execute_result"
    }
   ],
   "source": [
    "model.probability([\"Male\",None,\"Mobile Usage\",None,None,None,None]) + model.probability([\"Female\",None,\"Mobile Usage\",None,None,None,None])"
   ]
  },
  {
   "cell_type": "markdown",
   "metadata": {},
   "source": [
    "Last two probabilities compare the influence of smoking and mobile usage in contrast.\n"
   ]
  },
  {
   "cell_type": "markdown",
   "metadata": {},
   "source": [
    "Let's take a simple one: Compare the risks of a black man(age < 45, unstaged) to contact brain cancer."
   ]
  },
  {
   "cell_type": "code",
   "execution_count": 29,
   "metadata": {},
   "outputs": [
    {
     "name": "stdout",
     "output_type": "stream",
     "text": [
      "{\n",
      "    \"class\" :\"Distribution\",\n",
      "    \"dtype\" :\"str\",\n",
      "    \"name\" :\"DiscreteDistribution\",\n",
      "    \"parameters\" :[\n",
      "        {\n",
      "            \"Processed meat\" :0.6526999999999997,\n",
      "            \"Family history\" :0.10190000000000016,\n",
      "            \"Smoking\" :0.24460000000000004,\n",
      "            \"Mobile Usage\" :0.0008000000000002216\n",
      "        }\n",
      "    ],\n",
      "    \"frozen\" :false\n",
      "}\n"
     ]
    }
   ],
   "source": [
    "data = model.predict_proba([\"Male\",\"Black\",None,\"<45\",\"Unstaged\",None,None])\n",
    "print(data[2])"
   ]
  },
  {
   "cell_type": "markdown",
   "metadata": {},
   "source": [
    "What are the probabilities for recurrence and risks given the following statement?"
   ]
  },
  {
   "cell_type": "code",
   "execution_count": 30,
   "metadata": {
    "scrolled": false
   },
   "outputs": [
    {
     "data": {
      "text/plain": [
       "array(['Female', 'White',\n",
       "       {\n",
       "    \"class\" :\"Distribution\",\n",
       "    \"dtype\" :\"str\",\n",
       "    \"name\" :\"DiscreteDistribution\",\n",
       "    \"parameters\" :[\n",
       "        {\n",
       "            \"Processed meat\" :0.5613999999999998,\n",
       "            \"Family history\" :0.08770000000000011,\n",
       "            \"Smoking\" :0.35079999999999995,\n",
       "            \"Mobile Usage\" :0.00010000000000022205\n",
       "        }\n",
       "    ],\n",
       "    \"frozen\" :false\n",
       "},\n",
       "       '55-64', 'Regional', 'Radiotherapy',\n",
       "       {\n",
       "    \"class\" :\"Distribution\",\n",
       "    \"dtype\" :\"str\",\n",
       "    \"name\" :\"DiscreteDistribution\",\n",
       "    \"parameters\" :[\n",
       "        {\n",
       "            \"F\" :0.8938999999999998,\n",
       "            \"T\" :0.1061000000000002\n",
       "        }\n",
       "    ],\n",
       "    \"frozen\" :false\n",
       "}], dtype=object)"
      ]
     },
     "execution_count": 30,
     "metadata": {},
     "output_type": "execute_result"
    }
   ],
   "source": [
    "model.predict_proba([\"Female\",\"White\",None,\"55-64\",\"Regional\",\"Radiotherapy\",None])"
   ]
  },
  {
   "cell_type": "markdown",
   "metadata": {},
   "source": [
    "As you can see the results are in relation with the studies: processed meat has the biggest impact in health and because the cancer developed as 'regional' there are lower chances for it to return."
   ]
  },
  {
   "cell_type": "markdown",
   "metadata": {},
   "source": [
    "What was the most suitable treatement for an 80 year old person diagnosed with all stages."
   ]
  },
  {
   "cell_type": "code",
   "execution_count": 31,
   "metadata": {},
   "outputs": [
    {
     "name": "stdout",
     "output_type": "stream",
     "text": [
      "Surgery\n"
     ]
    }
   ],
   "source": [
    "data = model.predict_proba({'By Age':'75+','By Stage':'All'})\n",
    "# Find the key with the maximum value\n",
    "inverse = [(value, key) for key, value in data[5].items()]\n",
    "print(max(inverse)[1])"
   ]
  },
  {
   "cell_type": "markdown",
   "metadata": {},
   "source": [
    "What is the lowest risk factor for contacting brain cancer?"
   ]
  },
  {
   "cell_type": "code",
   "execution_count": 32,
   "metadata": {},
   "outputs": [
    {
     "name": "stdout",
     "output_type": "stream",
     "text": [
      "From  ('Processed meat', 'Family history', 'Smoking', 'Mobile Usage') : Mobile Usage\n"
     ]
    }
   ],
   "source": [
    "data = model.predict_proba({})\n",
    "# Find the key with the maximum value\n",
    "inverse = [(value, key) for key, value in data[2].items()]\n",
    "print(\"From \",data[2].keys(),\":\", min(inverse)[1])"
   ]
  },
  {
   "cell_type": "markdown",
   "metadata": {},
   "source": [
    "### Conclusion\n",
    "\n",
    "In conclusion we can say that the network is general enough to address major categories like treatment, recurrence, risk factors and 5 year relative survival in case of a brain cancer diagnosis. Interesting results were obtained from the network like the high value of recurrence in case of seniors diagnosed in all stages phase, probability of 5 year survival for persons under 45 in contrast with persons above 75, how radiotherapy gave inferior results when someone was diagnosed in all stage phase (better results are obtained with surgery). As seen above the cigarettes' influence is higher in contacting brain tumors in contrast with mobile usage (<0.1%) so better choose the mobile phone rather than the cigarette.\n",
    "\n",
    "### Possible improvements\n",
    "\n",
    "The biggest limit of the network is linked to the 5 year survival inference. The specificity is given by the results obtained in term of the 5 year survival. Because of this, making inferences after this period of 5 years is inappropriate.\n",
    "Firstly we will extend the domains of some states, for example Chemotherapy, Natural treatements could be added as alternatives for treatement; more risk factors like alcohol, immune system, fruits and vegetables consumption, rays, hormonal factors or environmental factors. The network architecture can be extended by adding new nodes that model price of treatements, influence of other diseases, electromagnetic waves influence, overall satisfaction of medical services, symptoms, how often the patient has his/her medical evaluations, et al.\n"
   ]
  },
  {
   "cell_type": "markdown",
   "metadata": {},
   "source": [
    "### References \n",
    "<a id=\"ref\"></a>\n",
    "[1] <a>https://en.wikipedia.org/wiki/Brain_tumor</a>\n",
    "<br>\n",
    "[2] <a>https://training.seer.cancer.gov/ss2k/descriptions/</a>\n",
    "<br>\n",
    "[3] <a>https://seer.cancer.gov/statfacts/html/brain.html</a>\n",
    "<br>\n",
    "[4] <a>https://seer.cancer.gov/csr/1975_2016/browse_csr.php?sectionSEL=3&pageSEL=sect_03_table.08</a>\n",
    "<br>\n",
    "[5] <a>https://www.wcrj.net/wp-content/uploads/sites/5/2019/07/e1356-Brain-cancer-in-the-world-an-epidemiological-review.pdf</a>\n",
    "<br>\n",
    "[6] <a>https://www.cancertherapyadvisor.com/home/tools/fact-sheets/cancer-recurrence-statistics/</a>\n",
    "<br>\n",
    "[7] <a>https://www.indianmedtrip.com/brain-tumor-causes-risk-diagnosis/</a>\n",
    "<br>\n",
    "[8] <a>https://academic.oup.com/neuro-oncology/article/18/1/105/2509203</a>"
   ]
  }
 ],
 "metadata": {
  "kernelspec": {
   "display_name": "Python 3",
   "language": "python",
   "name": "python3"
  },
  "language_info": {
   "codemirror_mode": {
    "name": "ipython",
    "version": 3
   },
   "file_extension": ".py",
   "mimetype": "text/x-python",
   "name": "python",
   "nbconvert_exporter": "python",
   "pygments_lexer": "ipython3",
   "version": "3.8.1"
  }
 },
 "nbformat": 4,
 "nbformat_minor": 1
}
